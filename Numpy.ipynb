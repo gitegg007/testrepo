{
  "nbformat": 4,
  "nbformat_minor": 0,
  "metadata": {
    "colab": {
      "provenance": [],
      "include_colab_link": true
    },
    "kernelspec": {
      "name": "python3",
      "display_name": "Python 3"
    },
    "language_info": {
      "name": "python"
    }
  },
  "cells": [
    {
      "cell_type": "markdown",
      "metadata": {
        "id": "view-in-github",
        "colab_type": "text"
      },
      "source": [
        "<a href=\"https://colab.research.google.com/github/gitegg007/testrepo/blob/main/Numpy.ipynb\" target=\"_parent\"><img src=\"https://colab.research.google.com/assets/colab-badge.svg\" alt=\"Open In Colab\"/></a>"
      ]
    },
    {
      "cell_type": "markdown",
      "source": [
        "[Numpy-for mathematical calculations in Python](https://numpy.org/)"
      ],
      "metadata": {
        "id": "B-06XOm0tlON"
      }
    },
    {
      "cell_type": "code",
      "execution_count": null,
      "metadata": {
        "colab": {
          "base_uri": "https://localhost:8080/"
        },
        "id": "_WIzstD9tZjv",
        "outputId": "fcd4111e-b6b2-4212-b5d2-6b2153754123"
      },
      "outputs": [
        {
          "output_type": "stream",
          "name": "stdout",
          "text": [
            "Requirement already satisfied: numpy in /usr/local/lib/python3.11/dist-packages (1.26.4)\n"
          ]
        }
      ],
      "source": [
        "!pip install numpy   #Local Environment"
      ]
    },
    {
      "cell_type": "code",
      "source": [
        "#Create Numpy array\n",
        "import numpy as np\n",
        "ar=np.array([45,63,98,75,15,46,32,98])  #Single dim\n",
        "#ar=np.array([45,63,98,75,15,46,32,98,45.36])\n",
        "print(ar)\n",
        "print(type(ar))\n",
        "print(ar.dtype)\n",
        "print(ar[5])  #indexing in 1D array"
      ],
      "metadata": {
        "colab": {
          "base_uri": "https://localhost:8080/"
        },
        "id": "pZJo4Sw90DDG",
        "outputId": "4aff712c-ff64-4815-d666-4ef33ebd59d4"
      },
      "execution_count": null,
      "outputs": [
        {
          "output_type": "stream",
          "name": "stdout",
          "text": [
            "[45 63 98 75 15 46 32 98]\n",
            "<class 'numpy.ndarray'>\n",
            "int64\n",
            "46\n"
          ]
        }
      ]
    },
    {
      "cell_type": "code",
      "source": [
        "#arange(start,stop,step)\n",
        "ar=np.arange(10,20)\n",
        "ar=np.arange(10,20,2)\n",
        "print(ar)"
      ],
      "metadata": {
        "colab": {
          "base_uri": "https://localhost:8080/"
        },
        "id": "l1YrQcr805ap",
        "outputId": "5282f7be-88af-4ecb-9bac-3df6e25a587c"
      },
      "execution_count": null,
      "outputs": [
        {
          "output_type": "stream",
          "name": "stdout",
          "text": [
            "[10 12 14 16 18]\n"
          ]
        }
      ]
    },
    {
      "cell_type": "code",
      "source": [
        "#linespace()\n",
        "print(np.linspace(10,100,10))\n",
        "print(np.linspace(10,100,5)) #Uniform Distribution"
      ],
      "metadata": {
        "colab": {
          "base_uri": "https://localhost:8080/"
        },
        "id": "Q7GXmwLu2P7d",
        "outputId": "ab0f6147-9744-451d-dfe5-2072c468b129"
      },
      "execution_count": null,
      "outputs": [
        {
          "output_type": "stream",
          "name": "stdout",
          "text": [
            "[ 10.  20.  30.  40.  50.  60.  70.  80.  90. 100.]\n",
            "[ 10.   32.5  55.   77.5 100. ]\n"
          ]
        }
      ]
    },
    {
      "cell_type": "code",
      "source": [
        "#randint()\n",
        "print(np.random.randint(1,100,10))"
      ],
      "metadata": {
        "colab": {
          "base_uri": "https://localhost:8080/"
        },
        "id": "DP5rBNyq3I-4",
        "outputId": "e8dbfa33-70c6-422b-c657-83190114f0e9"
      },
      "execution_count": null,
      "outputs": [
        {
          "output_type": "stream",
          "name": "stdout",
          "text": [
            "[39 22  8 85 88 38 74 22 80 17]\n"
          ]
        }
      ]
    },
    {
      "cell_type": "code",
      "source": [
        "#Identity Matrix\n",
        "print(np.eye(5,dtype='int'))"
      ],
      "metadata": {
        "colab": {
          "base_uri": "https://localhost:8080/"
        },
        "id": "S8xoQvoE3twg",
        "outputId": "81787bb8-eba0-44bb-9d9c-7a2d2a1a263a"
      },
      "execution_count": null,
      "outputs": [
        {
          "output_type": "stream",
          "name": "stdout",
          "text": [
            "[[1 0 0 0 0]\n",
            " [0 1 0 0 0]\n",
            " [0 0 1 0 0]\n",
            " [0 0 0 1 0]\n",
            " [0 0 0 0 1]]\n"
          ]
        }
      ]
    },
    {
      "cell_type": "code",
      "source": [
        "#Create 2D array [rows,colms]\n",
        "ar=np.array([[10,20,30,100],[40,50,60,200],[70,80,90,300]])\n",
        "print(ar)\n",
        "print(\"No of dims:\",ar.ndim)\n",
        "print(\"Shape:\",ar.shape)  #rows,colmns\n",
        "print(\"Size:\",ar.size)\n",
        "print(\"Data type:\",ar.dtype)\n",
        "print(ar[2][3])  #indexing in 2D [row][col]"
      ],
      "metadata": {
        "colab": {
          "base_uri": "https://localhost:8080/"
        },
        "id": "NMqDuf7t4YCY",
        "outputId": "6cd22677-2544-40b2-9e97-380736975dfc"
      },
      "execution_count": null,
      "outputs": [
        {
          "output_type": "stream",
          "name": "stdout",
          "text": [
            "[[ 10  20  30 100]\n",
            " [ 40  50  60 200]\n",
            " [ 70  80  90 300]]\n",
            "No of dims: 2\n",
            "Shape: (3, 4)\n",
            "Size: 12\n",
            "Data type: int64\n",
            "300\n"
          ]
        }
      ]
    },
    {
      "cell_type": "code",
      "source": [
        "for i in ar:\n",
        "  print(i)  #row wise results"
      ],
      "metadata": {
        "colab": {
          "base_uri": "https://localhost:8080/"
        },
        "id": "NRIBzT_O5tVl",
        "outputId": "c153e70d-96fb-4338-bafa-8e25b4423d1a"
      },
      "execution_count": null,
      "outputs": [
        {
          "output_type": "stream",
          "name": "stdout",
          "text": [
            "[ 10  20  30 100]\n",
            "[ 40  50  60 200]\n",
            "[ 70  80  90 300]\n"
          ]
        }
      ]
    },
    {
      "cell_type": "code",
      "source": [
        "for i in np.nditer(ar):\n",
        "  print(i)  #element wise results"
      ],
      "metadata": {
        "colab": {
          "base_uri": "https://localhost:8080/"
        },
        "id": "-tqZfyvZ7JF7",
        "outputId": "48b11d9d-3035-4b43-9ba3-dd6994a4943b"
      },
      "execution_count": null,
      "outputs": [
        {
          "output_type": "stream",
          "name": "stdout",
          "text": [
            "10\n",
            "20\n",
            "30\n",
            "100\n",
            "40\n",
            "50\n",
            "60\n",
            "200\n",
            "70\n",
            "80\n",
            "90\n",
            "300\n"
          ]
        }
      ]
    },
    {
      "cell_type": "code",
      "source": [
        "#Slicing[start:stop:step]\n",
        "ar=np.arange(10,20)\n",
        "print(ar)\n",
        "print(ar[3:8])"
      ],
      "metadata": {
        "colab": {
          "base_uri": "https://localhost:8080/"
        },
        "id": "PPRRe2Pk772s",
        "outputId": "09a0c24a-f96b-48f4-eba9-763d92b79fa2"
      },
      "execution_count": null,
      "outputs": [
        {
          "output_type": "stream",
          "name": "stdout",
          "text": [
            "[10 11 12 13 14 15 16 17 18 19]\n",
            "[13 14 15 16 17]\n"
          ]
        }
      ]
    },
    {
      "cell_type": "code",
      "source": [
        "ar=np.array([[10,20,30,100],[40,50,60,200],[70,80,90,300]])\n",
        "print(ar)\n",
        "print(ar[1:3,2:4])  #slicing for rows and columns"
      ],
      "metadata": {
        "colab": {
          "base_uri": "https://localhost:8080/"
        },
        "id": "lIlNsWGu8IBs",
        "outputId": "9067dabd-d1f4-4285-f359-6bab02bab8f1"
      },
      "execution_count": null,
      "outputs": [
        {
          "output_type": "stream",
          "name": "stdout",
          "text": [
            "[[ 10  20  30 100]\n",
            " [ 40  50  60 200]\n",
            " [ 70  80  90 300]]\n",
            "[[ 60 200]\n",
            " [ 90 300]]\n"
          ]
        }
      ]
    }
  ]
}